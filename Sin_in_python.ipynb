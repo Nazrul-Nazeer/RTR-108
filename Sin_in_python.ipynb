{
 "cells": [
  {
   "cell_type": "markdown",
   "metadata": {},
   "source": [
    "This python code calculates the value of sin(X/2) in two diffrent ways.\n",
    "The user is displayed with the value of sin by the built in sin function from the math library and also the value from a user defined function.\n",
    "This function is a series method of the function."
   ]
  },
  {
   "cell_type": "markdown",
   "metadata": {},
   "source": [
    "\\begin{equation*}\n",
    "\\left (\\sum_{k=0}^{500} \\frac{(-1^k) * (x^{(2*k) + 1})}{((2*k) + 1)! * (2^{(2*k) + 1})} \\right)\n",
    "\\end{equation*}"
   ]
  },
  {
   "cell_type": "markdown",
   "metadata": {},
   "source": [
    "when we insert k = 0 to k = user defined value, we get values of the above equation which when added we get and approximate value for the value of sin(X/2)."
   ]
  },
  {
   "cell_type": "markdown",
   "metadata": {},
   "source": [
    "#This is the Python code!"
   ]
  },
  {
   "cell_type": "code",
   "execution_count": 36,
   "metadata": {},
   "outputs": [],
   "source": [
    "import math"
   ]
  },
  {
   "cell_type": "markdown",
   "metadata": {},
   "source": [
    "This is the function defination for the formula when k = 0"
   ]
  },
  {
   "cell_type": "code",
   "execution_count": 37,
   "metadata": {},
   "outputs": [],
   "source": [
    "def initial_function(k,x):\n",
    "    a = pow(x,((2*k)+1))\n",
    "    b = pow(-1,k)\n",
    "    c = pow(2,((2*k)+1))\n",
    "    d = ((2*k)+1)\n",
    "    funu = b * a\n",
    "    fund = d * c\n",
    "    funf = funu/fund\n",
    "    return funf"
   ]
  },
  {
   "cell_type": "markdown",
   "metadata": {},
   "source": [
    "This is the function for the recursive formula for all values of 0 > k < user defined value"
   ]
  },
  {
   "cell_type": "code",
   "execution_count": 38,
   "metadata": {},
   "outputs": [],
   "source": [
    "def recursive_function(x,f1,f2):\n",
    "    a = pow(x,2)\n",
    "    b = f1 * f2\n",
    "    c = pow(2,2)\n",
    "    funu = a * (-1)\n",
    "    fund = b * c\n",
    "    funf = funu/fund\n",
    "    return funf"
   ]
  },
  {
   "cell_type": "markdown",
   "metadata": {},
   "source": [
    "Declaring values and variables to hold and store data calculated."
   ]
  },
  {
   "cell_type": "code",
   "execution_count": 39,
   "metadata": {},
   "outputs": [
    {
     "name": "stdout",
     "output_type": "stream",
     "text": [
      "Value of x : 3\n",
      "Accuracy : 10\n"
     ]
    }
   ],
   "source": [
    "z = input(\"Value of x : \")\n",
    "q = 0\n",
    "i = input(\"Accuracy : \")\n",
    "i = int(i)\n",
    "x = int(z)\n",
    "k = int(q)\n",
    "recursive_function_element = []\n",
    "series_function_element = []\n",
    "f1 = 2\n",
    "f2 = 3"
   ]
  },
  {
   "cell_type": "markdown",
   "metadata": {},
   "source": [
    "For loops to itterate and compute values of the recursive function and to add to a list the product of next value of real computition."
   ]
  },
  {
   "cell_type": "code",
   "execution_count": 40,
   "metadata": {},
   "outputs": [],
   "source": [
    "for y in range(i):\t\n",
    "\te = recursive_function(int(x), int(f1), int(f2))\n",
    "\tf1 = f1 + 2\n",
    "\tf2 = f2 + 2\n",
    "\trecursive_function_element.append(e)\n",
    "\n",
    "a_0 = initial_function(k,x)\n",
    "series_function_element.append(a_0)\n",
    "for v in range(1,i):\n",
    "\tseries_function_element.append(recursive_function_element[v-1] * series_function_element[v-1])"
   ]
  },
  {
   "cell_type": "markdown",
   "metadata": {},
   "source": [
    "Print function to print the values to the users."
   ]
  },
  {
   "cell_type": "code",
   "execution_count": 41,
   "metadata": {},
   "outputs": [
    {
     "name": "stdout",
     "output_type": "stream",
     "text": [
      "0.9974949866040544\n",
      "0.9974949866040544\n"
     ]
    }
   ],
   "source": [
    "#print(a_0)\n",
    "#print(recursive_function_element)\n",
    "#print(series_function_element)\n",
    "print(sum(series_function_element))\n",
    "print(math.sin(x/2))"
   ]
  },
  {
   "cell_type": "markdown",
   "metadata": {},
   "source": [
    "The first value is user defined function followed by the built in function."
   ]
  },
  {
   "cell_type": "code",
   "execution_count": null,
   "metadata": {},
   "outputs": [],
   "source": []
  }
 ],
 "metadata": {
  "kernelspec": {
   "display_name": "Python 3",
   "language": "python",
   "name": "python3"
  },
  "language_info": {
   "codemirror_mode": {
    "name": "ipython",
    "version": 3
   },
   "file_extension": ".py",
   "mimetype": "text/x-python",
   "name": "python",
   "nbconvert_exporter": "python",
   "pygments_lexer": "ipython3",
   "version": "3.7.5"
  }
 },
 "nbformat": 4,
 "nbformat_minor": 2
}
